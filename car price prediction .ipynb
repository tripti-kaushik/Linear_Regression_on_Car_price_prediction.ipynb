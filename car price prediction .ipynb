{
 "cells": [
  {
   "cell_type": "code",
   "execution_count": 1,
   "id": "ccce4c1c-c4bd-41cc-be7e-fc7f23d647c7",
   "metadata": {},
   "outputs": [],
   "source": [
    "import pandas as pd\n",
    "import numpy as np\n",
    "import matplotlib.pyplot as plt\n",
    "import seaborn as sns"
   ]
  },
  {
   "cell_type": "code",
   "execution_count": 2,
   "id": "101dc3ff-8ebb-4307-a837-82d81a9f7be8",
   "metadata": {},
   "outputs": [
    {
     "data": {
      "text/html": [
       "<div>\n",
       "<style scoped>\n",
       "    .dataframe tbody tr th:only-of-type {\n",
       "        vertical-align: middle;\n",
       "    }\n",
       "\n",
       "    .dataframe tbody tr th {\n",
       "        vertical-align: top;\n",
       "    }\n",
       "\n",
       "    .dataframe thead th {\n",
       "        text-align: right;\n",
       "    }\n",
       "</style>\n",
       "<table border=\"1\" class=\"dataframe\">\n",
       "  <thead>\n",
       "    <tr style=\"text-align: right;\">\n",
       "      <th></th>\n",
       "      <th>Make</th>\n",
       "      <th>Model</th>\n",
       "      <th>Year</th>\n",
       "      <th>Engine Fuel Type</th>\n",
       "      <th>Engine HP</th>\n",
       "      <th>Engine Cylinders</th>\n",
       "      <th>Transmission Type</th>\n",
       "      <th>Driven_Wheels</th>\n",
       "      <th>Number of Doors</th>\n",
       "      <th>Market Category</th>\n",
       "      <th>Vehicle Size</th>\n",
       "      <th>Vehicle Style</th>\n",
       "      <th>highway MPG</th>\n",
       "      <th>city mpg</th>\n",
       "      <th>Popularity</th>\n",
       "      <th>MSRP</th>\n",
       "    </tr>\n",
       "  </thead>\n",
       "  <tbody>\n",
       "    <tr>\n",
       "      <th>0</th>\n",
       "      <td>BMW</td>\n",
       "      <td>1 Series M</td>\n",
       "      <td>2011</td>\n",
       "      <td>premium unleaded (required)</td>\n",
       "      <td>335.0</td>\n",
       "      <td>6.0</td>\n",
       "      <td>MANUAL</td>\n",
       "      <td>rear wheel drive</td>\n",
       "      <td>2.0</td>\n",
       "      <td>Factory Tuner,Luxury,High-Performance</td>\n",
       "      <td>Compact</td>\n",
       "      <td>Coupe</td>\n",
       "      <td>26</td>\n",
       "      <td>19</td>\n",
       "      <td>3916</td>\n",
       "      <td>46135</td>\n",
       "    </tr>\n",
       "    <tr>\n",
       "      <th>1</th>\n",
       "      <td>BMW</td>\n",
       "      <td>1 Series</td>\n",
       "      <td>2011</td>\n",
       "      <td>premium unleaded (required)</td>\n",
       "      <td>300.0</td>\n",
       "      <td>6.0</td>\n",
       "      <td>MANUAL</td>\n",
       "      <td>rear wheel drive</td>\n",
       "      <td>2.0</td>\n",
       "      <td>Luxury,Performance</td>\n",
       "      <td>Compact</td>\n",
       "      <td>Convertible</td>\n",
       "      <td>28</td>\n",
       "      <td>19</td>\n",
       "      <td>3916</td>\n",
       "      <td>40650</td>\n",
       "    </tr>\n",
       "    <tr>\n",
       "      <th>2</th>\n",
       "      <td>BMW</td>\n",
       "      <td>1 Series</td>\n",
       "      <td>2011</td>\n",
       "      <td>premium unleaded (required)</td>\n",
       "      <td>300.0</td>\n",
       "      <td>6.0</td>\n",
       "      <td>MANUAL</td>\n",
       "      <td>rear wheel drive</td>\n",
       "      <td>2.0</td>\n",
       "      <td>Luxury,High-Performance</td>\n",
       "      <td>Compact</td>\n",
       "      <td>Coupe</td>\n",
       "      <td>28</td>\n",
       "      <td>20</td>\n",
       "      <td>3916</td>\n",
       "      <td>36350</td>\n",
       "    </tr>\n",
       "    <tr>\n",
       "      <th>3</th>\n",
       "      <td>BMW</td>\n",
       "      <td>1 Series</td>\n",
       "      <td>2011</td>\n",
       "      <td>premium unleaded (required)</td>\n",
       "      <td>230.0</td>\n",
       "      <td>6.0</td>\n",
       "      <td>MANUAL</td>\n",
       "      <td>rear wheel drive</td>\n",
       "      <td>2.0</td>\n",
       "      <td>Luxury,Performance</td>\n",
       "      <td>Compact</td>\n",
       "      <td>Coupe</td>\n",
       "      <td>28</td>\n",
       "      <td>18</td>\n",
       "      <td>3916</td>\n",
       "      <td>29450</td>\n",
       "    </tr>\n",
       "    <tr>\n",
       "      <th>4</th>\n",
       "      <td>BMW</td>\n",
       "      <td>1 Series</td>\n",
       "      <td>2011</td>\n",
       "      <td>premium unleaded (required)</td>\n",
       "      <td>230.0</td>\n",
       "      <td>6.0</td>\n",
       "      <td>MANUAL</td>\n",
       "      <td>rear wheel drive</td>\n",
       "      <td>2.0</td>\n",
       "      <td>Luxury</td>\n",
       "      <td>Compact</td>\n",
       "      <td>Convertible</td>\n",
       "      <td>28</td>\n",
       "      <td>18</td>\n",
       "      <td>3916</td>\n",
       "      <td>34500</td>\n",
       "    </tr>\n",
       "    <tr>\n",
       "      <th>...</th>\n",
       "      <td>...</td>\n",
       "      <td>...</td>\n",
       "      <td>...</td>\n",
       "      <td>...</td>\n",
       "      <td>...</td>\n",
       "      <td>...</td>\n",
       "      <td>...</td>\n",
       "      <td>...</td>\n",
       "      <td>...</td>\n",
       "      <td>...</td>\n",
       "      <td>...</td>\n",
       "      <td>...</td>\n",
       "      <td>...</td>\n",
       "      <td>...</td>\n",
       "      <td>...</td>\n",
       "      <td>...</td>\n",
       "    </tr>\n",
       "    <tr>\n",
       "      <th>11909</th>\n",
       "      <td>Acura</td>\n",
       "      <td>ZDX</td>\n",
       "      <td>2012</td>\n",
       "      <td>premium unleaded (required)</td>\n",
       "      <td>300.0</td>\n",
       "      <td>6.0</td>\n",
       "      <td>AUTOMATIC</td>\n",
       "      <td>all wheel drive</td>\n",
       "      <td>4.0</td>\n",
       "      <td>Crossover,Hatchback,Luxury</td>\n",
       "      <td>Midsize</td>\n",
       "      <td>4dr Hatchback</td>\n",
       "      <td>23</td>\n",
       "      <td>16</td>\n",
       "      <td>204</td>\n",
       "      <td>46120</td>\n",
       "    </tr>\n",
       "    <tr>\n",
       "      <th>11910</th>\n",
       "      <td>Acura</td>\n",
       "      <td>ZDX</td>\n",
       "      <td>2012</td>\n",
       "      <td>premium unleaded (required)</td>\n",
       "      <td>300.0</td>\n",
       "      <td>6.0</td>\n",
       "      <td>AUTOMATIC</td>\n",
       "      <td>all wheel drive</td>\n",
       "      <td>4.0</td>\n",
       "      <td>Crossover,Hatchback,Luxury</td>\n",
       "      <td>Midsize</td>\n",
       "      <td>4dr Hatchback</td>\n",
       "      <td>23</td>\n",
       "      <td>16</td>\n",
       "      <td>204</td>\n",
       "      <td>56670</td>\n",
       "    </tr>\n",
       "    <tr>\n",
       "      <th>11911</th>\n",
       "      <td>Acura</td>\n",
       "      <td>ZDX</td>\n",
       "      <td>2012</td>\n",
       "      <td>premium unleaded (required)</td>\n",
       "      <td>300.0</td>\n",
       "      <td>6.0</td>\n",
       "      <td>AUTOMATIC</td>\n",
       "      <td>all wheel drive</td>\n",
       "      <td>4.0</td>\n",
       "      <td>Crossover,Hatchback,Luxury</td>\n",
       "      <td>Midsize</td>\n",
       "      <td>4dr Hatchback</td>\n",
       "      <td>23</td>\n",
       "      <td>16</td>\n",
       "      <td>204</td>\n",
       "      <td>50620</td>\n",
       "    </tr>\n",
       "    <tr>\n",
       "      <th>11912</th>\n",
       "      <td>Acura</td>\n",
       "      <td>ZDX</td>\n",
       "      <td>2013</td>\n",
       "      <td>premium unleaded (recommended)</td>\n",
       "      <td>300.0</td>\n",
       "      <td>6.0</td>\n",
       "      <td>AUTOMATIC</td>\n",
       "      <td>all wheel drive</td>\n",
       "      <td>4.0</td>\n",
       "      <td>Crossover,Hatchback,Luxury</td>\n",
       "      <td>Midsize</td>\n",
       "      <td>4dr Hatchback</td>\n",
       "      <td>23</td>\n",
       "      <td>16</td>\n",
       "      <td>204</td>\n",
       "      <td>50920</td>\n",
       "    </tr>\n",
       "    <tr>\n",
       "      <th>11913</th>\n",
       "      <td>Lincoln</td>\n",
       "      <td>Zephyr</td>\n",
       "      <td>2006</td>\n",
       "      <td>regular unleaded</td>\n",
       "      <td>221.0</td>\n",
       "      <td>6.0</td>\n",
       "      <td>AUTOMATIC</td>\n",
       "      <td>front wheel drive</td>\n",
       "      <td>4.0</td>\n",
       "      <td>Luxury</td>\n",
       "      <td>Midsize</td>\n",
       "      <td>Sedan</td>\n",
       "      <td>26</td>\n",
       "      <td>17</td>\n",
       "      <td>61</td>\n",
       "      <td>28995</td>\n",
       "    </tr>\n",
       "  </tbody>\n",
       "</table>\n",
       "<p>11914 rows × 16 columns</p>\n",
       "</div>"
      ],
      "text/plain": [
       "          Make       Model  Year                Engine Fuel Type  Engine HP  \\\n",
       "0          BMW  1 Series M  2011     premium unleaded (required)      335.0   \n",
       "1          BMW    1 Series  2011     premium unleaded (required)      300.0   \n",
       "2          BMW    1 Series  2011     premium unleaded (required)      300.0   \n",
       "3          BMW    1 Series  2011     premium unleaded (required)      230.0   \n",
       "4          BMW    1 Series  2011     premium unleaded (required)      230.0   \n",
       "...        ...         ...   ...                             ...        ...   \n",
       "11909    Acura         ZDX  2012     premium unleaded (required)      300.0   \n",
       "11910    Acura         ZDX  2012     premium unleaded (required)      300.0   \n",
       "11911    Acura         ZDX  2012     premium unleaded (required)      300.0   \n",
       "11912    Acura         ZDX  2013  premium unleaded (recommended)      300.0   \n",
       "11913  Lincoln      Zephyr  2006                regular unleaded      221.0   \n",
       "\n",
       "       Engine Cylinders Transmission Type      Driven_Wheels  Number of Doors  \\\n",
       "0                   6.0            MANUAL   rear wheel drive              2.0   \n",
       "1                   6.0            MANUAL   rear wheel drive              2.0   \n",
       "2                   6.0            MANUAL   rear wheel drive              2.0   \n",
       "3                   6.0            MANUAL   rear wheel drive              2.0   \n",
       "4                   6.0            MANUAL   rear wheel drive              2.0   \n",
       "...                 ...               ...                ...              ...   \n",
       "11909               6.0         AUTOMATIC    all wheel drive              4.0   \n",
       "11910               6.0         AUTOMATIC    all wheel drive              4.0   \n",
       "11911               6.0         AUTOMATIC    all wheel drive              4.0   \n",
       "11912               6.0         AUTOMATIC    all wheel drive              4.0   \n",
       "11913               6.0         AUTOMATIC  front wheel drive              4.0   \n",
       "\n",
       "                             Market Category Vehicle Size  Vehicle Style  \\\n",
       "0      Factory Tuner,Luxury,High-Performance      Compact          Coupe   \n",
       "1                         Luxury,Performance      Compact    Convertible   \n",
       "2                    Luxury,High-Performance      Compact          Coupe   \n",
       "3                         Luxury,Performance      Compact          Coupe   \n",
       "4                                     Luxury      Compact    Convertible   \n",
       "...                                      ...          ...            ...   \n",
       "11909             Crossover,Hatchback,Luxury      Midsize  4dr Hatchback   \n",
       "11910             Crossover,Hatchback,Luxury      Midsize  4dr Hatchback   \n",
       "11911             Crossover,Hatchback,Luxury      Midsize  4dr Hatchback   \n",
       "11912             Crossover,Hatchback,Luxury      Midsize  4dr Hatchback   \n",
       "11913                                 Luxury      Midsize          Sedan   \n",
       "\n",
       "       highway MPG  city mpg  Popularity   MSRP  \n",
       "0               26        19        3916  46135  \n",
       "1               28        19        3916  40650  \n",
       "2               28        20        3916  36350  \n",
       "3               28        18        3916  29450  \n",
       "4               28        18        3916  34500  \n",
       "...            ...       ...         ...    ...  \n",
       "11909           23        16         204  46120  \n",
       "11910           23        16         204  56670  \n",
       "11911           23        16         204  50620  \n",
       "11912           23        16         204  50920  \n",
       "11913           26        17          61  28995  \n",
       "\n",
       "[11914 rows x 16 columns]"
      ]
     },
     "execution_count": 2,
     "metadata": {},
     "output_type": "execute_result"
    }
   ],
   "source": [
    "df = pd.read_csv('data (1).csv', encoding='unicode_escape')\n",
    "df"
   ]
  },
  {
   "cell_type": "code",
   "execution_count": 16,
   "id": "545427f2-e98e-4c80-92c4-bb82c1c40b1b",
   "metadata": {},
   "outputs": [
    {
     "data": {
      "text/html": [
       "<div>\n",
       "<style scoped>\n",
       "    .dataframe tbody tr th:only-of-type {\n",
       "        vertical-align: middle;\n",
       "    }\n",
       "\n",
       "    .dataframe tbody tr th {\n",
       "        vertical-align: top;\n",
       "    }\n",
       "\n",
       "    .dataframe thead th {\n",
       "        text-align: right;\n",
       "    }\n",
       "</style>\n",
       "<table border=\"1\" class=\"dataframe\">\n",
       "  <thead>\n",
       "    <tr style=\"text-align: right;\">\n",
       "      <th></th>\n",
       "      <th>Make</th>\n",
       "      <th>Model</th>\n",
       "      <th>Year</th>\n",
       "      <th>Engine Fuel Type</th>\n",
       "      <th>Engine HP</th>\n",
       "      <th>Engine Cylinders</th>\n",
       "      <th>Transmission Type</th>\n",
       "      <th>Driven_Wheels</th>\n",
       "      <th>Number of Doors</th>\n",
       "      <th>Market Category</th>\n",
       "      <th>Vehicle Size</th>\n",
       "      <th>Vehicle Style</th>\n",
       "      <th>highway MPG</th>\n",
       "      <th>city mpg</th>\n",
       "      <th>Popularity</th>\n",
       "      <th>MSRP</th>\n",
       "    </tr>\n",
       "  </thead>\n",
       "  <tbody>\n",
       "    <tr>\n",
       "      <th>0</th>\n",
       "      <td>BMW</td>\n",
       "      <td>1 Series M</td>\n",
       "      <td>2011</td>\n",
       "      <td>premium unleaded (required)</td>\n",
       "      <td>335.0</td>\n",
       "      <td>6.0</td>\n",
       "      <td>MANUAL</td>\n",
       "      <td>rear wheel drive</td>\n",
       "      <td>2.0</td>\n",
       "      <td>Factory Tuner,Luxury,High-Performance</td>\n",
       "      <td>Compact</td>\n",
       "      <td>Coupe</td>\n",
       "      <td>26</td>\n",
       "      <td>19</td>\n",
       "      <td>3916</td>\n",
       "      <td>46135</td>\n",
       "    </tr>\n",
       "    <tr>\n",
       "      <th>1</th>\n",
       "      <td>BMW</td>\n",
       "      <td>1 Series</td>\n",
       "      <td>2011</td>\n",
       "      <td>premium unleaded (required)</td>\n",
       "      <td>300.0</td>\n",
       "      <td>6.0</td>\n",
       "      <td>MANUAL</td>\n",
       "      <td>rear wheel drive</td>\n",
       "      <td>2.0</td>\n",
       "      <td>Luxury,Performance</td>\n",
       "      <td>Compact</td>\n",
       "      <td>Convertible</td>\n",
       "      <td>28</td>\n",
       "      <td>19</td>\n",
       "      <td>3916</td>\n",
       "      <td>40650</td>\n",
       "    </tr>\n",
       "    <tr>\n",
       "      <th>2</th>\n",
       "      <td>BMW</td>\n",
       "      <td>1 Series</td>\n",
       "      <td>2011</td>\n",
       "      <td>premium unleaded (required)</td>\n",
       "      <td>300.0</td>\n",
       "      <td>6.0</td>\n",
       "      <td>MANUAL</td>\n",
       "      <td>rear wheel drive</td>\n",
       "      <td>2.0</td>\n",
       "      <td>Luxury,High-Performance</td>\n",
       "      <td>Compact</td>\n",
       "      <td>Coupe</td>\n",
       "      <td>28</td>\n",
       "      <td>20</td>\n",
       "      <td>3916</td>\n",
       "      <td>36350</td>\n",
       "    </tr>\n",
       "    <tr>\n",
       "      <th>3</th>\n",
       "      <td>BMW</td>\n",
       "      <td>1 Series</td>\n",
       "      <td>2011</td>\n",
       "      <td>premium unleaded (required)</td>\n",
       "      <td>230.0</td>\n",
       "      <td>6.0</td>\n",
       "      <td>MANUAL</td>\n",
       "      <td>rear wheel drive</td>\n",
       "      <td>2.0</td>\n",
       "      <td>Luxury,Performance</td>\n",
       "      <td>Compact</td>\n",
       "      <td>Coupe</td>\n",
       "      <td>28</td>\n",
       "      <td>18</td>\n",
       "      <td>3916</td>\n",
       "      <td>29450</td>\n",
       "    </tr>\n",
       "    <tr>\n",
       "      <th>4</th>\n",
       "      <td>BMW</td>\n",
       "      <td>1 Series</td>\n",
       "      <td>2011</td>\n",
       "      <td>premium unleaded (required)</td>\n",
       "      <td>230.0</td>\n",
       "      <td>6.0</td>\n",
       "      <td>MANUAL</td>\n",
       "      <td>rear wheel drive</td>\n",
       "      <td>2.0</td>\n",
       "      <td>Luxury</td>\n",
       "      <td>Compact</td>\n",
       "      <td>Convertible</td>\n",
       "      <td>28</td>\n",
       "      <td>18</td>\n",
       "      <td>3916</td>\n",
       "      <td>34500</td>\n",
       "    </tr>\n",
       "  </tbody>\n",
       "</table>\n",
       "</div>"
      ],
      "text/plain": [
       "  Make       Model  Year             Engine Fuel Type  Engine HP  \\\n",
       "0  BMW  1 Series M  2011  premium unleaded (required)      335.0   \n",
       "1  BMW    1 Series  2011  premium unleaded (required)      300.0   \n",
       "2  BMW    1 Series  2011  premium unleaded (required)      300.0   \n",
       "3  BMW    1 Series  2011  premium unleaded (required)      230.0   \n",
       "4  BMW    1 Series  2011  premium unleaded (required)      230.0   \n",
       "\n",
       "   Engine Cylinders Transmission Type     Driven_Wheels  Number of Doors  \\\n",
       "0               6.0            MANUAL  rear wheel drive              2.0   \n",
       "1               6.0            MANUAL  rear wheel drive              2.0   \n",
       "2               6.0            MANUAL  rear wheel drive              2.0   \n",
       "3               6.0            MANUAL  rear wheel drive              2.0   \n",
       "4               6.0            MANUAL  rear wheel drive              2.0   \n",
       "\n",
       "                         Market Category Vehicle Size Vehicle Style  \\\n",
       "0  Factory Tuner,Luxury,High-Performance      Compact         Coupe   \n",
       "1                     Luxury,Performance      Compact   Convertible   \n",
       "2                Luxury,High-Performance      Compact         Coupe   \n",
       "3                     Luxury,Performance      Compact         Coupe   \n",
       "4                                 Luxury      Compact   Convertible   \n",
       "\n",
       "   highway MPG  city mpg  Popularity   MSRP  \n",
       "0           26        19        3916  46135  \n",
       "1           28        19        3916  40650  \n",
       "2           28        20        3916  36350  \n",
       "3           28        18        3916  29450  \n",
       "4           28        18        3916  34500  "
      ]
     },
     "execution_count": 16,
     "metadata": {},
     "output_type": "execute_result"
    }
   ],
   "source": [
    "df.head()"
   ]
  },
  {
   "cell_type": "code",
   "execution_count": 3,
   "id": "064d236b-0fba-48ad-aad5-70ac05bafc31",
   "metadata": {},
   "outputs": [
    {
     "name": "stdout",
     "output_type": "stream",
     "text": [
      "<class 'pandas.core.frame.DataFrame'>\n",
      "RangeIndex: 11914 entries, 0 to 11913\n",
      "Data columns (total 16 columns):\n",
      " #   Column             Non-Null Count  Dtype  \n",
      "---  ------             --------------  -----  \n",
      " 0   Make               11914 non-null  object \n",
      " 1   Model              11914 non-null  object \n",
      " 2   Year               11914 non-null  int64  \n",
      " 3   Engine Fuel Type   11911 non-null  object \n",
      " 4   Engine HP          11845 non-null  float64\n",
      " 5   Engine Cylinders   11884 non-null  float64\n",
      " 6   Transmission Type  11914 non-null  object \n",
      " 7   Driven_Wheels      11914 non-null  object \n",
      " 8   Number of Doors    11908 non-null  float64\n",
      " 9   Market Category    8172 non-null   object \n",
      " 10  Vehicle Size       11914 non-null  object \n",
      " 11  Vehicle Style      11914 non-null  object \n",
      " 12  highway MPG        11914 non-null  int64  \n",
      " 13  city mpg           11914 non-null  int64  \n",
      " 14  Popularity         11914 non-null  int64  \n",
      " 15  MSRP               11914 non-null  int64  \n",
      "dtypes: float64(3), int64(5), object(8)\n",
      "memory usage: 1.5+ MB\n"
     ]
    }
   ],
   "source": [
    "df.info()"
   ]
  },
  {
   "cell_type": "code",
   "execution_count": 4,
   "id": "62a3e70f-a36f-4fb9-8501-93967d1a7337",
   "metadata": {},
   "outputs": [
    {
     "data": {
      "text/plain": [
       "Make                    0\n",
       "Model                   0\n",
       "Year                    0\n",
       "Engine Fuel Type        3\n",
       "Engine HP              69\n",
       "Engine Cylinders       30\n",
       "Transmission Type       0\n",
       "Driven_Wheels           0\n",
       "Number of Doors         6\n",
       "Market Category      3742\n",
       "Vehicle Size            0\n",
       "Vehicle Style           0\n",
       "highway MPG             0\n",
       "city mpg                0\n",
       "Popularity              0\n",
       "MSRP                    0\n",
       "dtype: int64"
      ]
     },
     "execution_count": 4,
     "metadata": {},
     "output_type": "execute_result"
    }
   ],
   "source": [
    "df.isnull().sum()"
   ]
  },
  {
   "cell_type": "code",
   "execution_count": 5,
   "id": "3d1b5570-fd90-4e26-bd0a-f915dc77b84f",
   "metadata": {},
   "outputs": [],
   "source": [
    "from sklearn.preprocessing import LabelEncoder\n",
    "label_encoder= LabelEncoder"
   ]
  },
  {
   "cell_type": "code",
   "execution_count": 6,
   "id": "59842e9f-dee3-40be-a8ae-914150c3f013",
   "metadata": {},
   "outputs": [
    {
     "data": {
      "text/plain": [
       "array(['BMW', 'Audi', 'FIAT', 'Mercedes-Benz', 'Chrysler', 'Nissan',\n",
       "       'Volvo', 'Mazda', 'Mitsubishi', 'Ferrari', 'Alfa Romeo', 'Toyota',\n",
       "       'McLaren', 'Maybach', 'Pontiac', 'Porsche', 'Saab', 'GMC',\n",
       "       'Hyundai', 'Plymouth', 'Honda', 'Oldsmobile', 'Suzuki', 'Ford',\n",
       "       'Cadillac', 'Kia', 'Bentley', 'Chevrolet', 'Dodge', 'Lamborghini',\n",
       "       'Lincoln', 'Subaru', 'Volkswagen', 'Spyker', 'Buick', 'Acura',\n",
       "       'Rolls-Royce', 'Maserati', 'Lexus', 'Aston Martin', 'Land Rover',\n",
       "       'Lotus', 'Infiniti', 'Scion', 'Genesis', 'HUMMER', 'Tesla',\n",
       "       'Bugatti'], dtype=object)"
      ]
     },
     "execution_count": 6,
     "metadata": {},
     "output_type": "execute_result"
    }
   ],
   "source": [
    "df['Make'].unique()"
   ]
  },
  {
   "cell_type": "code",
   "execution_count": 7,
   "id": "1ba7993f-ab9d-45b3-b1da-a5824b3dad99",
   "metadata": {},
   "outputs": [],
   "source": [
    "df['Make']=LabelEncoder().fit_transform(df['Make'])"
   ]
  },
  {
   "cell_type": "code",
   "execution_count": 8,
   "id": "ba155fe7-7677-4129-8fa1-2649cf150a65",
   "metadata": {},
   "outputs": [
    {
     "data": {
      "text/plain": [
       "array([ 4,  3, 12, 31, 10, 33, 47, 29, 32, 13,  1, 45, 30, 28, 36, 37, 39,\n",
       "       15, 19, 35, 18, 34, 43, 14,  8, 21,  5,  9, 11, 22, 25, 42, 46, 41,\n",
       "        7,  0, 38, 27, 24,  2, 23, 26, 20, 40, 16, 17, 44,  6])"
      ]
     },
     "execution_count": 8,
     "metadata": {},
     "output_type": "execute_result"
    }
   ],
   "source": [
    "df['Make'].unique()"
   ]
  },
  {
   "cell_type": "code",
   "execution_count": 9,
   "id": "6fd6a093-81c3-4031-9052-aca726d36eb0",
   "metadata": {},
   "outputs": [
    {
     "data": {
      "text/plain": [
       "array(['1 Series M', '1 Series', '100', '124 Spider', '190-Class',\n",
       "       '2 Series', '200', '200SX', '240SX', '240', '2',\n",
       "       '3 Series Gran Turismo', '3 Series', '300-Class', '3000GT', '300',\n",
       "       '300M', '300ZX', '323', '350-Class', '350Z', '360', '370Z', '3',\n",
       "       '4 Series Gran Coupe', '4 Series', '400-Class', '420-Class',\n",
       "       '456M', '458 Italia', '4C', '4Runner', '5 Series Gran Turismo',\n",
       "       '5 Series', '500-Class', '500e', '500', '500L', '500X', '550',\n",
       "       '560-Class', '570S', '575M', '57', '599', '5',\n",
       "       '6 Series Gran Coupe', '6 Series', '600-Class', '6000',\n",
       "       '612 Scaglietti', '626', '62', '650S Coupe', '650S Spider', '6',\n",
       "       '7 Series', '718 Cayman', '740', '760', '780', '8 Series', '80',\n",
       "       '850', '86', '9-2X', '9-3 Griffin', '9-3', '9-4X', '9-5', '9-7X',\n",
       "       '9000', '900', '90', '911', '928', '929', '940', '944', '960',\n",
       "       '968', 'A3', 'A4 allroad', 'A4', 'A5', 'A6', 'A7', 'A8',\n",
       "       'Acadia Limited', 'Acadia', 'Accent', 'Acclaim',\n",
       "       'Accord Crosstour', 'Accord Hybrid', 'Accord Plug-In Hybrid',\n",
       "       'Accord', 'Achieva', 'ActiveHybrid 5', 'ActiveHybrid 7',\n",
       "       'ActiveHybrid X6', 'Aerio', 'Aerostar', 'Alero', 'Allante',\n",
       "       'allroad quattro', 'allroad', 'ALPINA B6 Gran Coupe', 'ALPINA B7',\n",
       "       'Alpina', 'Altima Hybrid', 'Altima', 'Amanti', 'AMG GT', 'Armada',\n",
       "       'Arnage', 'Aspen', 'Aspire', 'Astro Cargo', 'Astro', 'ATS Coupe',\n",
       "       'ATS-V', 'ATS', 'Aurora', 'Avalanche', 'Avalon Hybrid', 'Avalon',\n",
       "       'Avenger', 'Aventador', 'Aveo', 'Aviator', 'Axxess', 'Azera',\n",
       "       'Aztek', 'Azure T', 'Azure', 'B-Class Electric Drive',\n",
       "       'B-Series Pickup', 'B-Series Truck', 'B-Series', 'B9 Tribeca',\n",
       "       'Baja', 'Beetle Convertible', 'Beetle', 'Beretta',\n",
       "       'Black Diamond Avalanche', 'Blackwood', 'Blazer', 'Bolt EV',\n",
       "       'Bonneville', 'Borrego', 'Boxster', 'Bravada', 'Breeze',\n",
       "       'Bronco II', 'Bronco', 'Brooklands', 'Brougham', 'BRZ', 'C-Class',\n",
       "       'C-Max Hybrid', 'C30', 'C36 AMG', 'C43 AMG', 'C70', 'C8',\n",
       "       'Cabriolet', 'Cabrio', 'Cadenza', 'Caliber', 'California T',\n",
       "       'California', 'Camaro', 'Camry Hybrid', 'Camry Solara', 'Camry',\n",
       "       'Canyon', 'Caprice', 'Captiva Sport', 'Caravan', 'Carrera GT',\n",
       "       'Cascada', 'Catera', 'Cavalier', 'Cayenne', 'Cayman S', 'Cayman',\n",
       "       'CC', 'Celebrity', 'Celica', 'Century', 'Challenger', 'Charger',\n",
       "       'Chevy Van', 'Ciera', 'Cirrus', 'City Express', 'Civic CRX',\n",
       "       'Civic del Sol', 'Civic', 'C/K 1500 Series', 'C/K 2500 Series',\n",
       "       'CL-Class', 'CLA-Class', 'CL', 'Classic', 'CLK-Class', 'CLS-Class',\n",
       "       'Cobalt', 'Colorado', 'Colt', 'Concorde',\n",
       "       'Continental Flying Spur Speed', 'Continental Flying Spur',\n",
       "       'Continental GT Speed Convertible', 'Continental GT Speed',\n",
       "       'Continental GT3-R', 'Continental GT', 'Continental GTC Speed',\n",
       "       'Continental GTC', 'Continental Supersports Convertible',\n",
       "       'Continental Supersports', 'Continental', 'Contour SVT', 'Contour',\n",
       "       'Corniche', 'Corolla iM', 'Corolla', 'Corrado', 'Corsica',\n",
       "       'Corvette Stingray', 'Corvette', 'Coupe', 'CR-V', 'CR-Z',\n",
       "       'Cressida', 'Crossfire', 'Crosstour', 'Crosstrek',\n",
       "       'Crown Victoria', 'Cruze Limited', 'Cruze', 'CT 200h', 'CT6',\n",
       "       'CTS Coupe', 'CTS-V Coupe', 'CTS-V Wagon', 'CTS-V', 'CTS Wagon',\n",
       "       'CTS', 'Cube', 'Custom Cruiser', 'Cutlass Calais', 'Cutlass Ciera',\n",
       "       'Cutlass Supreme', 'Cutlass', 'CX-3', 'CX-5', 'CX-7', 'CX-9',\n",
       "       'Dakota', 'Dart', 'Dawn', 'Daytona', 'DB7', 'DB9 GT', 'DB9', 'DBS',\n",
       "       'Defender', 'DeVille', 'Diablo', 'Diamante', 'Discovery Series II',\n",
       "       'Discovery Sport', 'Discovery', 'DTS', 'Durango', 'Dynasty',\n",
       "       'E-150', 'E-250', 'E-Class', 'e-Golf', 'E-Series Van',\n",
       "       'E-Series Wagon', 'E55 AMG', 'ECHO', 'Eclipse Spyder', 'Eclipse',\n",
       "       'Edge', 'Eighty-Eight Royale', 'Eighty-Eight', 'Elantra Coupe',\n",
       "       'Elantra GT', 'Elantra Touring', 'Elantra', 'Eldorado', 'Electra',\n",
       "       'Element', 'Elise', 'Enclave', 'Encore', 'Endeavor', 'Entourage',\n",
       "       'Envision', 'Envoy XL', 'Envoy XUV', 'Envoy', 'Enzo', 'Eos',\n",
       "       'Equator', 'Equinox', 'Equus', 'ES 250', 'ES 300h', 'ES 300',\n",
       "       'ES 330', 'ES 350', 'Escalade ESV', 'Escalade EXT',\n",
       "       'Escalade Hybrid', 'Escalade', 'Escape Hybrid', 'Escape', 'Escort',\n",
       "       'Esprit', 'Estate Wagon', 'Esteem', 'EuroVan', 'Evora 400',\n",
       "       'Evora', 'EX35', 'Excel', 'Exige', 'EX', 'Expedition',\n",
       "       'Explorer Sport Trac', 'Explorer Sport', 'Explorer', 'Expo',\n",
       "       'Express Cargo', 'Express', 'F-150 Heritage',\n",
       "       'F-150 SVT Lightning', 'F-150', 'F-250', 'F12 Berlinetta', 'F430',\n",
       "       'Festiva', 'FF', 'Fiesta', 'Firebird', 'Fit EV', 'Fit',\n",
       "       'Five Hundred', 'FJ Cruiser', 'Fleetwood', 'Flex', 'Flying Spur',\n",
       "       'Focus RS', 'Focus ST', 'Focus', 'Forenza', 'Forester', 'Forte',\n",
       "       'Fox', 'FR-S', 'Freelander', 'Freestar', 'Freestyle', 'Frontier',\n",
       "       'Fusion Hybrid', 'Fusion', 'FX35', 'FX45', 'FX50', 'FX', 'G-Class',\n",
       "       'G Convertible', 'G Coupe', 'G Sedan', 'G20', 'G35',\n",
       "       'G37 Convertible', 'G37 Coupe', 'G37 Sedan', 'G37', 'G3', 'G5',\n",
       "       'G6', 'G80', 'G8', 'Galant', 'Gallardo', 'Genesis Coupe',\n",
       "       'Genesis', 'Ghibli', 'Ghost Series II', 'Ghost', 'GL-Class',\n",
       "       'GLA-Class', 'GLC-Class', 'GLE-Class Coupe', 'GLE-Class', 'GLI',\n",
       "       'GLK-Class', 'GLS-Class', 'Golf Alltrack', 'Golf GTI', 'Golf R',\n",
       "       'Golf SportWagen', 'Golf', 'Grand Am', 'Grand Caravan',\n",
       "       'Grand Prix', 'Grand Vitara', 'Grand Voyager', 'GranSport',\n",
       "       'GranTurismo Convertible', 'GranTurismo', 'GS 200t', 'GS 300',\n",
       "       'GS 350', 'GS 400', 'GS 430', 'GS 450h', 'GS 460', 'GS F', 'GT-R',\n",
       "       'GT', 'GTI', 'GTO', 'GX 460', 'GX 470', 'H3', 'H3T', 'HHR',\n",
       "       'Highlander Hybrid', 'Highlander', 'Horizon', 'HR-V', 'HS 250h',\n",
       "       'Huracan', 'i-MiEV', 'I30', 'I35', 'i3', 'iA', 'ILX Hybrid', 'ILX',\n",
       "       'Impala Limited', 'Impala', 'Imperial', 'Impreza WRX', 'Impreza',\n",
       "       'iM', 'Insight', 'Integra', 'Intrepid', 'Intrigue', 'iQ',\n",
       "       'IS 200t', 'IS 250 C', 'IS 250', 'IS 300', 'IS 350 C', 'IS 350',\n",
       "       'IS F', 'J30', 'Jetta GLI', 'Jetta Hybrid', 'Jetta SportWagen',\n",
       "       'Jetta', 'Jimmy', 'Journey', 'Juke', 'Justy', 'JX', 'K900',\n",
       "       'Kizashi', 'LaCrosse', 'Lancer Evolution', 'Lancer Sportback',\n",
       "       'Lancer', 'Land Cruiser', 'Landaulet', 'Laser', 'Le Baron',\n",
       "       'Le Mans', 'Leaf', 'Legacy', 'Legend', 'LeSabre', 'Levante', 'LFA',\n",
       "       'LHS', 'Loyale', 'LR2', 'LR3', 'LR4', 'LS 400', 'LS 430', 'LS 460',\n",
       "       'LS 600h L', 'LS', 'LSS', 'LTD Crown Victoria', 'Lucerne',\n",
       "       'Lumina Minivan', 'Lumina', 'LX 450', 'LX 470', 'LX 570',\n",
       "       'M-Class', 'M2', 'M30', 'M35', 'M37', 'M3', 'M4 GTS', 'M45', 'M4',\n",
       "       'M56', 'M5', 'M6 Gran Coupe', 'M6', 'Macan', 'Magnum',\n",
       "       'Malibu Classic', 'Malibu Hybrid', 'Malibu Limited', 'Malibu Maxx',\n",
       "       'Malibu', 'Mark LT', 'Mark VIII', 'Mark VII', 'Matrix', 'Maxima',\n",
       "       'Maybach', 'Mazdaspeed 3', 'Mazdaspeed 6', 'Mazdaspeed MX-5 Miata',\n",
       "       'Mazdaspeed Protege', 'M', 'MDX', 'Metris', 'Metro',\n",
       "       'Mighty Max Pickup', 'Millenia', 'Mirage G4', 'Mirage', 'MKC',\n",
       "       'MKS', 'MKT', 'MKX', 'MKZ Hybrid', 'MKZ', 'ML55 AMG', 'Model S',\n",
       "       'Monaco', 'Montana SV6', 'Montana', 'Monte Carlo', 'Montero Sport',\n",
       "       'Montero', 'MP4-12C', 'MPV', 'MR2 Spyder', 'MR2', 'Mulsanne',\n",
       "       'Murano CrossCabriolet', 'Murano', 'Murcielago',\n",
       "       'Mustang SVT Cobra', 'Mustang', 'MX-3', 'MX-5 Miata', 'MX-6',\n",
       "       'Navajo', 'Navigator', 'Neon', 'New Beetle', 'New Yorker',\n",
       "       'Ninety-Eight', 'Nitro', 'NSX', 'NV200', 'NX 200t', 'NX 300h',\n",
       "       'NX', 'Odyssey', 'Omni', 'Optima Hybrid', 'Optima', 'Outback',\n",
       "       'Outlander Sport', 'Outlander', 'Pacifica', 'Panamera',\n",
       "       'Park Avenue', 'Park Ward', 'Paseo', 'Passat', 'Passport',\n",
       "       'Pathfinder', 'Phaeton', 'Phantom Coupe', 'Phantom Drophead Coupe',\n",
       "       'Phantom', 'Pickup', 'Pilot', 'Precis', 'Prelude', 'Previa',\n",
       "       'Prius c', 'Prius Prime', 'Prius v', 'Prius', 'Prizm', 'Probe',\n",
       "       'Protege5', 'Protege', 'Prowler', 'PT Cruiser', 'Pulsar', 'Q3',\n",
       "       'Q40', 'Q45', 'Q50', 'Q5', 'Q60 Convertible', 'Q60 Coupe', 'Q70',\n",
       "       'Q7', 'Quattroporte', 'Quest', 'QX4', 'QX50', 'QX56', 'QX60',\n",
       "       'QX70', 'QX80', 'QX', 'R-Class', 'R32', 'R8', 'Rabbit', 'Raider',\n",
       "       'Rainier', 'Rally Wagon', 'RAM 150', 'RAM 250', 'Ram 50 Pickup',\n",
       "       'Ram Cargo', 'Ram Pickup 1500', 'Ram Van', 'Ram Wagon',\n",
       "       'Ramcharger', 'Range Rover Evoque', 'Range Rover Sport',\n",
       "       'Range Rover', 'Ranger', 'Rapide S', 'Rapide', 'RAV4 EV',\n",
       "       'RAV4 Hybrid', 'RAV4', 'RC 200t', 'RC 300', 'RC 350', 'RC F',\n",
       "       'RDX', 'Reatta', 'Regal', 'Regency', 'Rendezvous', 'Reno',\n",
       "       'Reventon', 'Ridgeline', 'Rio', 'Riviera', 'RL', 'RLX',\n",
       "       'Roadmaster', 'Rogue Select', 'Rogue', 'Rondo', 'Routan', 'RS 4',\n",
       "       'RS 5', 'RS 6', 'RS 7', 'RSX', 'RX 300', 'RX 330', 'RX 350',\n",
       "       'RX 400h', 'RX 450h', 'RX-7', 'RX-8', 'S-10 Blazer', 'S-10',\n",
       "       'S-15 Jimmy', 'S-15', 'S-Class', 'S2000', 'S3', 'S40', 'S4', 'S5',\n",
       "       'S60 Cross Country', 'S60', 'S6', 'S70', 'S7', 'S80', 'S8', 'S90',\n",
       "       'Safari Cargo', 'Safari', 'Samurai', 'Santa Fe Sport', 'Santa Fe',\n",
       "       'Savana Cargo', 'Savana', 'SC 300', 'SC 400', 'SC 430', 'Scoupe',\n",
       "       'Sebring', 'Sedona', 'Sentra', 'Sephia', 'Sequoia', 'Seville',\n",
       "       'Shadow', 'Shelby GT350', 'Shelby GT500', 'Sidekick', 'Sienna',\n",
       "       'Sierra 1500 Classic', 'Sierra 1500 Hybrid', 'Sierra 1500',\n",
       "       'Sierra 1500HD', 'Sierra C3', 'Sierra Classic 1500', 'Sigma',\n",
       "       'Silhouette', 'Silver Seraph', 'Silverado 1500 Classic',\n",
       "       'Silverado 1500 Hybrid', 'Silverado 1500', 'Sixty Special',\n",
       "       'Skylark', 'SL-Class', 'SLC-Class', 'SLK-Class', 'SLR McLaren',\n",
       "       'SLS AMG GT Final Edition', 'SLS AMG GT', 'SLS AMG', 'SLX',\n",
       "       'Solstice', 'Sonata Hybrid', 'Sonata', 'Sonic', 'Sonoma',\n",
       "       'Sorento', 'Soul EV', 'Soul', 'Spark EV', 'Spark', 'Spectra',\n",
       "       'Spirit', 'Sportage', 'Sportvan', 'Spyder', 'SQ5', 'SRT Viper',\n",
       "       'SRX', 'SS', 'SSR', 'Stanza', 'Stealth', 'Stratus', 'STS-V', 'STS',\n",
       "       'Suburban', 'Sunbird', 'Sundance', 'Sunfire', 'Superamerica',\n",
       "       'Supersports Convertible ISR', 'Supra', 'SVX', 'Swift', 'SX4',\n",
       "       'Syclone', 'T100', 'Tacoma', 'Tahoe Hybrid', 'Tahoe Limited/Z71',\n",
       "       'Tahoe', 'Taurus X', 'Taurus', 'TC', 'tC', 'Tempo', 'Tercel',\n",
       "       'Terrain', 'Terraza', 'Thunderbird', 'Tiburon', 'Tiguan', 'Titan',\n",
       "       'TL', 'TLX', 'Toronado', 'Torrent', 'Touareg 2', 'Touareg',\n",
       "       'Town and Country', 'Town Car', 'Tracker', 'TrailBlazer EXT',\n",
       "       'TrailBlazer', 'Trans Sport', 'Transit Connect', 'Transit Wagon',\n",
       "       'Traverse', 'Trax', 'Tribeca', 'Tribute Hybrid', 'Tribute',\n",
       "       'Truck', 'TSX Sport Wagon', 'TSX', 'TT RS', 'TT', 'TTS', 'Tucson',\n",
       "       'Tundra', 'Typhoon', 'Uplander', 'V12 Vanquish', 'V12 Vantage S',\n",
       "       'V12 Vantage', 'V40', 'V50', 'V60 Cross Country', 'V60', 'V70',\n",
       "       'V8 Vantage', 'V8', 'V90', 'Vanagon', 'Vandura', 'Van', 'Vanquish',\n",
       "       'Vanwagon', 'Veloster', 'Venture', 'Venza', 'Veracruz', 'Verano',\n",
       "       'Verona', 'Versa Note', 'Versa', 'Veyron 16.4', 'Vibe', 'Vigor',\n",
       "       'Viper', 'Virage', 'Vitara', 'Voyager', 'Windstar Cargo',\n",
       "       'Windstar', 'Wraith', 'WRX', 'X-90', 'X1', 'X3', 'X4', 'X5 M',\n",
       "       'X5', 'X6 M', 'X6', 'xA', 'xB', 'XC60', 'XC70', 'XC90', 'XC', 'xD',\n",
       "       'XG300', 'XG350', 'XL-7', 'XL7', 'XLR-V', 'XLR', 'XT5', 'Xterra',\n",
       "       'XTS', 'XT', 'XV Crosstrek', 'Yaris iA', 'Yaris', 'Yukon Denali',\n",
       "       'Yukon Hybrid', 'Yukon XL', 'Yukon', 'Z3', 'Z4 M', 'Z4', 'Z8',\n",
       "       'ZDX', 'Zephyr'], dtype=object)"
      ]
     },
     "execution_count": 9,
     "metadata": {},
     "output_type": "execute_result"
    }
   ],
   "source": [
    "df['Model'].unique()"
   ]
  },
  {
   "cell_type": "code",
   "execution_count": 29,
   "id": "4cd32016-c3cf-497c-ab39-2f73b8d95352",
   "metadata": {},
   "outputs": [],
   "source": [
    "df['Model']= LabelEncoder().fit_transform(df['Model'])"
   ]
  },
  {
   "cell_type": "code",
   "execution_count": 30,
   "id": "b26bd45a-353f-40ed-abc7-3e2b0046eae9",
   "metadata": {},
   "outputs": [
    {
     "data": {
      "text/plain": [
       "array([  1,   0,   2,   3,   4,   6,   7,   8,  10,   9,   5,  13,  12,\n",
       "        15,  16,  14,  17,  18,  19,  20,  21,  22,  23,  11,  25,  24,\n",
       "        26,  27,  28,  29,  30,  31,  34,  33,  36,  39,  35,  37,  38,\n",
       "        40,  41,  43,  44,  42,  45,  32,  48,  47,  49,  50,  51,  53,\n",
       "        52,  54,  55,  46,  56,  57,  58,  59,  60,  61,  62,  63,  64,\n",
       "        65,  67,  66,  68,  69,  70,  73,  72,  71,  74,  75,  76,  77,\n",
       "        78,  79,  80,  81,  83,  82,  84,  85,  86,  87,  95,  94,  96,\n",
       "        97,  99, 100, 101,  98, 102, 103, 104, 105, 106, 107, 108, 109,\n",
       "       904, 903,  88,  89, 110, 112, 111, 113,  90, 114, 115, 116, 117,\n",
       "       119, 118,  92,  93,  91, 120, 121, 123, 122, 124, 125, 126, 127,\n",
       "       128, 129, 130, 132, 131, 133, 135, 136, 134, 137, 139, 141, 140,\n",
       "       142, 143, 144, 145, 146, 147, 148, 149, 150, 151, 153, 152, 154,\n",
       "       155, 138, 156, 157, 160, 161, 162, 163, 164, 186, 185, 187, 188,\n",
       "       190, 189, 191, 193, 194, 192, 195, 196, 197, 198, 199, 200, 201,\n",
       "       202, 203, 205, 204, 165, 206, 207, 208, 209, 210, 211, 212, 213,\n",
       "       214, 216, 217, 215, 158, 159, 167, 168, 166, 218, 169, 170, 219,\n",
       "       220, 221, 222, 225, 224, 228, 227, 229, 226, 231, 230, 233, 232,\n",
       "       223, 235, 234, 236, 238, 237, 239, 240, 242, 241, 243, 171, 172,\n",
       "       244, 245, 246, 247, 248, 250, 249, 173, 174, 176, 179, 180, 178,\n",
       "       177, 175, 251, 252, 254, 255, 256, 253, 181, 182, 183, 184, 262,\n",
       "       263, 264, 265, 257, 259, 258, 260, 267, 266, 268, 269, 271, 272,\n",
       "       270, 261, 273, 274, 275, 276, 277, 905, 278, 279, 280, 281, 290,\n",
       "       289, 291, 293, 292, 295, 296, 297, 294, 298, 299, 300, 301, 302,\n",
       "       303, 304, 305, 306, 308, 309, 307, 310, 311, 312, 313, 314, 282,\n",
       "       284, 283, 285, 286, 316, 317, 318, 315, 320, 319, 321, 322, 323,\n",
       "       324, 325, 327, 326, 288, 328, 329, 287, 330, 333, 332, 331, 334,\n",
       "       336, 335, 338, 339, 337, 340, 341, 342, 350, 343, 351, 352, 354,\n",
       "       353, 355, 344, 356, 357, 358, 360, 361, 359, 362, 363, 364, 365,\n",
       "       345, 366, 367, 368, 369, 371, 370, 347, 348, 349, 346, 375, 372,\n",
       "       373, 374, 376, 378, 380, 381, 382, 379, 377, 383, 384, 386, 385,\n",
       "       409, 410, 412, 411, 413, 415, 414, 387, 388, 389, 391, 390, 392,\n",
       "       393, 394, 417, 418, 419, 420, 416, 424, 425, 426, 427, 428, 421,\n",
       "       423, 422, 395, 396, 397, 398, 399, 400, 401, 402, 404, 403, 405,\n",
       "       406, 407, 408, 429, 430, 431, 435, 434, 436, 432, 433, 437, 906,\n",
       "       438, 439, 907, 908, 441, 440, 450, 449, 451, 453, 452, 909, 454,\n",
       "       455, 456, 457, 910, 442, 444, 443, 445, 447, 446, 448, 458, 461,\n",
       "       462, 463, 460, 464, 465, 466, 467, 459, 468, 469, 485, 487, 488,\n",
       "       486, 489, 490, 491, 492, 493, 495, 496, 497, 494, 498, 470, 471,\n",
       "       499, 472, 473, 474, 476, 477, 478, 479, 475, 480, 481, 500, 502,\n",
       "       501, 482, 483, 484, 504, 505, 507, 508, 509, 506, 511, 512, 510,\n",
       "       514, 513, 516, 515, 532, 533, 535, 536, 537, 538, 534, 539, 541,\n",
       "       540, 542, 543, 544, 545, 546, 547, 548, 503, 517, 549, 550, 551,\n",
       "       552, 554, 553, 518, 519, 520, 521, 523, 522, 524, 555, 556, 558,\n",
       "       557, 559, 561, 560, 525, 526, 528, 527, 562, 564, 563, 565, 567,\n",
       "       566, 529, 530, 531, 573, 574, 575, 576, 577, 578, 579, 568, 569,\n",
       "       571, 572, 570, 580, 581, 583, 582, 584, 586, 585, 588, 589, 590,\n",
       "       591, 592, 593, 594, 595, 596, 598, 599, 597, 600, 601, 602, 603,\n",
       "       604, 607, 606, 608, 605, 609, 610, 612, 611, 613, 587, 614, 615,\n",
       "       616, 617, 619, 618, 620, 621, 623, 622, 631, 632, 625, 626, 627,\n",
       "       628, 629, 630, 624, 633, 634, 635, 660, 661, 662, 663, 636, 637,\n",
       "       664, 665, 666, 667, 668, 669, 671, 672, 670, 673, 675, 674, 639,\n",
       "       640, 638, 641, 642, 643, 644, 645, 676, 677, 678, 679, 680, 681,\n",
       "       682, 683, 684, 646, 647, 685, 687, 686, 688, 689, 648, 649, 650,\n",
       "       651, 652, 653, 654, 655, 656, 657, 658, 659, 691, 690, 693, 692,\n",
       "       694, 695, 696, 698, 697, 699, 702, 701, 700, 704, 703, 706, 705,\n",
       "       707, 729, 728, 730, 732, 731, 734, 733, 708, 709, 710, 735, 736,\n",
       "       737, 738, 739, 740, 741, 742, 743, 744, 745, 746, 748, 749, 747,\n",
       "       750, 751, 752, 753, 754, 755, 757, 758, 756, 759, 760, 711, 712,\n",
       "       713, 714, 717, 716, 715, 718, 761, 763, 762, 764, 765, 766, 768,\n",
       "       767, 770, 769, 771, 772, 773, 774, 775, 719, 720, 721, 722, 723,\n",
       "       776, 777, 778, 725, 724, 779, 780, 781, 782, 783, 784, 785, 726,\n",
       "       786, 727, 787, 788, 797, 799, 800, 798, 802, 801, 789, 911, 803,\n",
       "       804, 805, 806, 807, 808, 809, 810, 790, 791, 811, 812, 814, 813,\n",
       "       816, 815, 817, 819, 818, 820, 821, 822, 823, 824, 825, 827, 826,\n",
       "       828, 793, 792, 795, 794, 796, 829, 830, 831, 832, 833, 835, 834,\n",
       "       836, 837, 839, 838, 840, 842, 841, 843, 845, 846, 844, 847, 848,\n",
       "       849, 850, 851, 852, 853, 854, 856, 855, 857, 858, 859, 860, 861,\n",
       "       862, 863, 866, 865, 867, 864, 868, 869, 870, 871, 873, 872, 875,\n",
       "       874, 912, 913, 877, 878, 879, 876, 914, 880, 881, 882, 883, 885,\n",
       "       884, 887, 890, 888, 886, 889, 892, 891, 894, 895, 896, 893, 897,\n",
       "       899, 898, 900, 901, 902])"
      ]
     },
     "execution_count": 30,
     "metadata": {},
     "output_type": "execute_result"
    }
   ],
   "source": [
    "df['Model'].unique()"
   ]
  },
  {
   "cell_type": "code",
   "execution_count": 31,
   "id": "b459df0b-5158-4d89-84e8-0a1c8e9a95f3",
   "metadata": {},
   "outputs": [
    {
     "data": {
      "text/plain": [
       "array(['premium unleaded (required)', 'regular unleaded',\n",
       "       'premium unleaded (recommended)', 'flex-fuel (unleaded/E85)',\n",
       "       'diesel', 'electric',\n",
       "       'flex-fuel (premium unleaded recommended/E85)', 'natural gas',\n",
       "       'flex-fuel (premium unleaded required/E85)',\n",
       "       'flex-fuel (unleaded/natural gas)', nan], dtype=object)"
      ]
     },
     "execution_count": 31,
     "metadata": {},
     "output_type": "execute_result"
    }
   ],
   "source": [
    "df['Engine Fuel Type'].unique()"
   ]
  },
  {
   "cell_type": "code",
   "execution_count": 34,
   "id": "fc32b19b-a49d-40f2-917d-e360f1613b93",
   "metadata": {},
   "outputs": [],
   "source": [
    "df['Engine Fuel Type'] = LabelEncoder().fit_transform(df['Engine Fuel Type'])"
   ]
  },
  {
   "cell_type": "code",
   "execution_count": 35,
   "id": "872b0e37-1c02-4290-bc36-c4404cfaffbe",
   "metadata": {},
   "outputs": [
    {
     "data": {
      "text/plain": [
       "array([ 8,  9,  7,  4,  0,  1,  2,  6,  3,  5, 10])"
      ]
     },
     "execution_count": 35,
     "metadata": {},
     "output_type": "execute_result"
    }
   ],
   "source": [
    "df['Engine Fuel Type'].unique()"
   ]
  },
  {
   "cell_type": "code",
   "execution_count": 36,
   "id": "6b69eaf5-919c-4a37-9696-7fce457017b5",
   "metadata": {},
   "outputs": [
    {
     "data": {
      "text/plain": [
       "array(['MANUAL', 'AUTOMATIC', 'AUTOMATED_MANUAL', 'DIRECT_DRIVE',\n",
       "       'UNKNOWN'], dtype=object)"
      ]
     },
     "execution_count": 36,
     "metadata": {},
     "output_type": "execute_result"
    }
   ],
   "source": [
    "df['Transmission Type'].unique()"
   ]
  },
  {
   "cell_type": "code",
   "execution_count": 38,
   "id": "d9dccf00-0b19-4434-ae0b-48bc01ced792",
   "metadata": {},
   "outputs": [],
   "source": [
    "df['Transmission Type']= LabelEncoder().fit_transform(df['Transmission Type'])"
   ]
  },
  {
   "cell_type": "code",
   "execution_count": 40,
   "id": "a579521e-51c8-48a0-a238-a164322f2bd4",
   "metadata": {},
   "outputs": [
    {
     "data": {
      "text/plain": [
       "array([3, 1, 0, 2, 4])"
      ]
     },
     "execution_count": 40,
     "metadata": {},
     "output_type": "execute_result"
    }
   ],
   "source": [
    "df['Transmission Type'].unique()"
   ]
  },
  {
   "cell_type": "code",
   "execution_count": 41,
   "id": "831b82de-67a4-486f-8127-2e13a617315f",
   "metadata": {},
   "outputs": [
    {
     "data": {
      "text/plain": [
       "array(['rear wheel drive', 'front wheel drive', 'all wheel drive',\n",
       "       'four wheel drive'], dtype=object)"
      ]
     },
     "execution_count": 41,
     "metadata": {},
     "output_type": "execute_result"
    }
   ],
   "source": [
    "df['Driven_Wheels'].unique()"
   ]
  },
  {
   "cell_type": "code",
   "execution_count": 42,
   "id": "27af93eb-975b-4c27-a44e-093430788a84",
   "metadata": {},
   "outputs": [],
   "source": [
    "df['Driven_Wheels']= LabelEncoder().fit_transform(df['Driven_Wheels'])"
   ]
  },
  {
   "cell_type": "code",
   "execution_count": 43,
   "id": "2c7d8544-2b0e-4cf0-9f7d-4c05c58a22ee",
   "metadata": {},
   "outputs": [
    {
     "data": {
      "text/plain": [
       "array([3, 2, 0, 1])"
      ]
     },
     "execution_count": 43,
     "metadata": {},
     "output_type": "execute_result"
    }
   ],
   "source": [
    "df['Driven_Wheels'].unique()"
   ]
  },
  {
   "cell_type": "code",
   "execution_count": 44,
   "id": "8d6d32f5-977d-46d1-b372-105753911387",
   "metadata": {},
   "outputs": [],
   "source": [
    "df['Market Category']= LabelEncoder().fit_transform(df['Market Category'])"
   ]
  },
  {
   "cell_type": "code",
   "execution_count": 45,
   "id": "f73d6a48-f74f-4ebc-b2c1-bc892009f87a",
   "metadata": {},
   "outputs": [
    {
     "data": {
      "text/plain": [
       "array([3, 2, 0, 1])"
      ]
     },
     "execution_count": 45,
     "metadata": {},
     "output_type": "execute_result"
    }
   ],
   "source": [
    "df['Driven_Wheels'].unique()"
   ]
  },
  {
   "cell_type": "code",
   "execution_count": 46,
   "id": "2166d8f4-cbd8-4f20-83d8-58037260d1ad",
   "metadata": {},
   "outputs": [
    {
     "data": {
      "text/plain": [
       "array(['Compact', 'Midsize', 'Large'], dtype=object)"
      ]
     },
     "execution_count": 46,
     "metadata": {},
     "output_type": "execute_result"
    }
   ],
   "source": [
    "df['Vehicle Size'].unique()"
   ]
  },
  {
   "cell_type": "code",
   "execution_count": 48,
   "id": "28742550-58ed-43fa-8e49-5767129c06a2",
   "metadata": {},
   "outputs": [],
   "source": [
    "df['Vehicle Size']= LabelEncoder().fit_transform(df['Vehicle Size'])"
   ]
  },
  {
   "cell_type": "code",
   "execution_count": 49,
   "id": "f7872769-0216-4c1b-ad6b-c71dda9cde0f",
   "metadata": {},
   "outputs": [
    {
     "data": {
      "text/plain": [
       "array([0, 2, 1])"
      ]
     },
     "execution_count": 49,
     "metadata": {},
     "output_type": "execute_result"
    }
   ],
   "source": [
    "df['Vehicle Size'].unique()"
   ]
  },
  {
   "cell_type": "code",
   "execution_count": 50,
   "id": "d4a0756f-dcea-43ac-bbab-c97d73a9e414",
   "metadata": {},
   "outputs": [
    {
     "data": {
      "text/plain": [
       "array(['Coupe', 'Convertible', 'Sedan', 'Wagon', '4dr Hatchback',\n",
       "       '2dr Hatchback', '4dr SUV', 'Passenger Minivan', 'Cargo Minivan',\n",
       "       'Crew Cab Pickup', 'Regular Cab Pickup', 'Extended Cab Pickup',\n",
       "       '2dr SUV', 'Cargo Van', 'Convertible SUV', 'Passenger Van'],\n",
       "      dtype=object)"
      ]
     },
     "execution_count": 50,
     "metadata": {},
     "output_type": "execute_result"
    }
   ],
   "source": [
    "df['Vehicle Style'].unique()"
   ]
  },
  {
   "cell_type": "code",
   "execution_count": 52,
   "id": "dd02f69b-5c96-425a-a7a2-0568ec0c0e99",
   "metadata": {},
   "outputs": [],
   "source": [
    "df['Vehicle Size']= LabelEncoder().fit_transform(df['Vehicle Style'])"
   ]
  },
  {
   "cell_type": "code",
   "execution_count": 53,
   "id": "c8b95dbb-2043-4025-9c5e-fae355398af2",
   "metadata": {},
   "outputs": [
    {
     "data": {
      "text/plain": [
       "array(['Coupe', 'Convertible', 'Sedan', 'Wagon', '4dr Hatchback',\n",
       "       '2dr Hatchback', '4dr SUV', 'Passenger Minivan', 'Cargo Minivan',\n",
       "       'Crew Cab Pickup', 'Regular Cab Pickup', 'Extended Cab Pickup',\n",
       "       '2dr SUV', 'Cargo Van', 'Convertible SUV', 'Passenger Van'],\n",
       "      dtype=object)"
      ]
     },
     "execution_count": 53,
     "metadata": {},
     "output_type": "execute_result"
    }
   ],
   "source": [
    "df['Vehicle Style'].unique()"
   ]
  },
  {
   "cell_type": "code",
   "execution_count": 54,
   "id": "4fe6eb9d-c8aa-4118-8df9-a2b38a27cecf",
   "metadata": {},
   "outputs": [
    {
     "data": {
      "text/html": [
       "<div>\n",
       "<style scoped>\n",
       "    .dataframe tbody tr th:only-of-type {\n",
       "        vertical-align: middle;\n",
       "    }\n",
       "\n",
       "    .dataframe tbody tr th {\n",
       "        vertical-align: top;\n",
       "    }\n",
       "\n",
       "    .dataframe thead th {\n",
       "        text-align: right;\n",
       "    }\n",
       "</style>\n",
       "<table border=\"1\" class=\"dataframe\">\n",
       "  <thead>\n",
       "    <tr style=\"text-align: right;\">\n",
       "      <th></th>\n",
       "      <th>Make</th>\n",
       "      <th>Model</th>\n",
       "      <th>Year</th>\n",
       "      <th>Engine Fuel Type</th>\n",
       "      <th>Engine HP</th>\n",
       "      <th>Engine Cylinders</th>\n",
       "      <th>Transmission Type</th>\n",
       "      <th>Driven_Wheels</th>\n",
       "      <th>Number of Doors</th>\n",
       "      <th>Market Category</th>\n",
       "      <th>Vehicle Size</th>\n",
       "      <th>Vehicle Style</th>\n",
       "      <th>highway MPG</th>\n",
       "      <th>city mpg</th>\n",
       "      <th>Popularity</th>\n",
       "      <th>MSRP</th>\n",
       "    </tr>\n",
       "  </thead>\n",
       "  <tbody>\n",
       "    <tr>\n",
       "      <th>0</th>\n",
       "      <td>4</td>\n",
       "      <td>1</td>\n",
       "      <td>2011</td>\n",
       "      <td>8</td>\n",
       "      <td>335.0</td>\n",
       "      <td>6.0</td>\n",
       "      <td>3</td>\n",
       "      <td>3</td>\n",
       "      <td>2.0</td>\n",
       "      <td>38</td>\n",
       "      <td>8</td>\n",
       "      <td>Coupe</td>\n",
       "      <td>26</td>\n",
       "      <td>19</td>\n",
       "      <td>3916</td>\n",
       "      <td>46135</td>\n",
       "    </tr>\n",
       "    <tr>\n",
       "      <th>1</th>\n",
       "      <td>4</td>\n",
       "      <td>0</td>\n",
       "      <td>2011</td>\n",
       "      <td>8</td>\n",
       "      <td>300.0</td>\n",
       "      <td>6.0</td>\n",
       "      <td>3</td>\n",
       "      <td>3</td>\n",
       "      <td>2.0</td>\n",
       "      <td>67</td>\n",
       "      <td>6</td>\n",
       "      <td>Convertible</td>\n",
       "      <td>28</td>\n",
       "      <td>19</td>\n",
       "      <td>3916</td>\n",
       "      <td>40650</td>\n",
       "    </tr>\n",
       "    <tr>\n",
       "      <th>2</th>\n",
       "      <td>4</td>\n",
       "      <td>0</td>\n",
       "      <td>2011</td>\n",
       "      <td>8</td>\n",
       "      <td>300.0</td>\n",
       "      <td>6.0</td>\n",
       "      <td>3</td>\n",
       "      <td>3</td>\n",
       "      <td>2.0</td>\n",
       "      <td>64</td>\n",
       "      <td>8</td>\n",
       "      <td>Coupe</td>\n",
       "      <td>28</td>\n",
       "      <td>20</td>\n",
       "      <td>3916</td>\n",
       "      <td>36350</td>\n",
       "    </tr>\n",
       "    <tr>\n",
       "      <th>3</th>\n",
       "      <td>4</td>\n",
       "      <td>0</td>\n",
       "      <td>2011</td>\n",
       "      <td>8</td>\n",
       "      <td>230.0</td>\n",
       "      <td>6.0</td>\n",
       "      <td>3</td>\n",
       "      <td>3</td>\n",
       "      <td>2.0</td>\n",
       "      <td>67</td>\n",
       "      <td>8</td>\n",
       "      <td>Coupe</td>\n",
       "      <td>28</td>\n",
       "      <td>18</td>\n",
       "      <td>3916</td>\n",
       "      <td>29450</td>\n",
       "    </tr>\n",
       "    <tr>\n",
       "      <th>4</th>\n",
       "      <td>4</td>\n",
       "      <td>0</td>\n",
       "      <td>2011</td>\n",
       "      <td>8</td>\n",
       "      <td>230.0</td>\n",
       "      <td>6.0</td>\n",
       "      <td>3</td>\n",
       "      <td>3</td>\n",
       "      <td>2.0</td>\n",
       "      <td>63</td>\n",
       "      <td>6</td>\n",
       "      <td>Convertible</td>\n",
       "      <td>28</td>\n",
       "      <td>18</td>\n",
       "      <td>3916</td>\n",
       "      <td>34500</td>\n",
       "    </tr>\n",
       "  </tbody>\n",
       "</table>\n",
       "</div>"
      ],
      "text/plain": [
       "   Make  Model  Year  Engine Fuel Type  Engine HP  Engine Cylinders  \\\n",
       "0     4      1  2011                 8      335.0               6.0   \n",
       "1     4      0  2011                 8      300.0               6.0   \n",
       "2     4      0  2011                 8      300.0               6.0   \n",
       "3     4      0  2011                 8      230.0               6.0   \n",
       "4     4      0  2011                 8      230.0               6.0   \n",
       "\n",
       "   Transmission Type  Driven_Wheels  Number of Doors  Market Category  \\\n",
       "0                  3              3              2.0               38   \n",
       "1                  3              3              2.0               67   \n",
       "2                  3              3              2.0               64   \n",
       "3                  3              3              2.0               67   \n",
       "4                  3              3              2.0               63   \n",
       "\n",
       "   Vehicle Size Vehicle Style  highway MPG  city mpg  Popularity   MSRP  \n",
       "0             8         Coupe           26        19        3916  46135  \n",
       "1             6   Convertible           28        19        3916  40650  \n",
       "2             8         Coupe           28        20        3916  36350  \n",
       "3             8         Coupe           28        18        3916  29450  \n",
       "4             6   Convertible           28        18        3916  34500  "
      ]
     },
     "execution_count": 54,
     "metadata": {},
     "output_type": "execute_result"
    }
   ],
   "source": [
    "df.head()"
   ]
  },
  {
   "cell_type": "code",
   "execution_count": 55,
   "id": "57883614-e4d8-4ff8-a14f-5857e3d36111",
   "metadata": {},
   "outputs": [
    {
     "data": {
      "text/plain": [
       "Make                  0\n",
       "Model                 0\n",
       "Year                  0\n",
       "Engine Fuel Type      0\n",
       "Engine HP            69\n",
       "Engine Cylinders     30\n",
       "Transmission Type     0\n",
       "Driven_Wheels         0\n",
       "Number of Doors       6\n",
       "Market Category       0\n",
       "Vehicle Size          0\n",
       "Vehicle Style         0\n",
       "highway MPG           0\n",
       "city mpg              0\n",
       "Popularity            0\n",
       "MSRP                  0\n",
       "dtype: int64"
      ]
     },
     "execution_count": 55,
     "metadata": {},
     "output_type": "execute_result"
    }
   ],
   "source": [
    "df.isnull().sum()\n",
    "#akkodis"
   ]
  },
  {
   "cell_type": "code",
   "execution_count": 58,
   "id": "8f545a9f-98d3-4cb6-be40-1f951eac5215",
   "metadata": {},
   "outputs": [],
   "source": [
    "df['Engine HP']= df['Engine HP'].fillna(df['Engine HP'].mode()[0])\n",
    "df['Engine Cylinders'] = df['Engine Cylinders'].fillna(df['Engine Cylinders'].mode()[0])\n",
    "df['Number of Doors'] = df['Number of Doors'].fillna(df['Number of Doors'].mode()[0])"
   ]
  },
  {
   "cell_type": "code",
   "execution_count": 59,
   "id": "dae78696-d4de-438d-a0a0-9ac68f168c24",
   "metadata": {},
   "outputs": [
    {
     "data": {
      "text/plain": [
       "Make                 0\n",
       "Model                0\n",
       "Year                 0\n",
       "Engine Fuel Type     0\n",
       "Engine HP            0\n",
       "Engine Cylinders     0\n",
       "Transmission Type    0\n",
       "Driven_Wheels        0\n",
       "Number of Doors      0\n",
       "Market Category      0\n",
       "Vehicle Size         0\n",
       "Vehicle Style        0\n",
       "highway MPG          0\n",
       "city mpg             0\n",
       "Popularity           0\n",
       "MSRP                 0\n",
       "dtype: int64"
      ]
     },
     "execution_count": 59,
     "metadata": {},
     "output_type": "execute_result"
    }
   ],
   "source": [
    "df.isnull().sum()"
   ]
  },
  {
   "cell_type": "code",
   "execution_count": 31,
   "id": "c07cef44-c288-4b60-83c2-472c5b1005c5",
   "metadata": {},
   "outputs": [],
   "source": [
    "x=df.drop(['MSRP'],axis=1) #independent columns\n",
    "y=df['MSRP'] #dependent columns"
   ]
  },
  {
   "cell_type": "code",
   "execution_count": 32,
   "id": "a8fef00d-464b-4790-a68e-c84c7f81c5e0",
   "metadata": {},
   "outputs": [],
   "source": [
    "from sklearn.model_selection import train_test_split\n",
    "x_train,x_test,y_train,y_test=train_test_split(x,y,test_size=0.30) #for testing - 20% data"
   ]
  },
  {
   "cell_type": "code",
   "execution_count": 39,
   "id": "37d49200-138c-40a7-9158-c9a2bb1f9131",
   "metadata": {},
   "outputs": [],
   "source": [
    "from sklearn.linear_model import LinearRegression\n",
    "model=LinearRegression()\n",
    "model.fit(x_train,y_train) #.fit() - helps in training the model (learning takes place)"
   ]
  },
  {
   "cell_type": "code",
   "execution_count": null,
   "id": "74686ef6-679d-4b8e-8cc5-a2a24d4e658e",
   "metadata": {},
   "outputs": [],
   "source": [
    "y_pred=model.predict(x_test) #.predict() - helps in testing or evaluating the performance"
   ]
  },
  {
   "cell_type": "code",
   "execution_count": null,
   "id": "b3e8698e-6c93-4168-b7d7-d16fc43ef9b8",
   "metadata": {},
   "outputs": [],
   "source": [
    "from sklearn.metrics import r2_score\n",
    "r2_score(y_test,y_pred)"
   ]
  },
  {
   "cell_type": "code",
   "execution_count": 47,
   "id": "c4d57def-5831-498e-a07c-0f376cc4dfed",
   "metadata": {},
   "outputs": [
    {
     "data": {
      "text/plain": [
       "Text(0, 0.5, 'cars')"
      ]
     },
     "execution_count": 47,
     "metadata": {},
     "output_type": "execute_result"
    },
    {
     "data": {
      "image/png": "[encoded data removed]",
      "text/plain": [
       "<Figure size 1000x1000 with 1 Axes>"
      ]
     },
     "metadata": {},
     "output_type": "display_data"
    }
   ],
   "source": [
    "# Data Visualization\n",
    "ma= sns.countplot(y='Make',data=df)\n",
    "sns.set(rc={'figure.figsize':(10,10)})\n",
    "for bars in ma.containers:\n",
    "    ma.bar_label(bars)\n",
    "plt.title('Brands With the no of manufactured cars',fontsize=20)\n",
    "plt.xlabel('Make')\n",
    "plt.ylabel('cars')"
   ]
  },
  {
   "cell_type": "code",
   "execution_count": 48,
   "id": "4dd894fc-4279-4330-b789-26944e155486",
   "metadata": {},
   "outputs": [
    {
     "name": "stderr",
     "output_type": "stream",
     "text": [
      "C:\\Users\\91763\\AppData\\Local\\Temp\\ipykernel_11916\\307824463.py:1: FutureWarning: \n",
      "\n",
      "Passing `palette` without assigning `hue` is deprecated and will be removed in v0.14.0. Assign the `x` variable to `hue` and set `legend=False` for the same effect.\n",
      "\n",
      "  vs= sns.countplot(x='Vehicle Size', data=df,palette='Set1')\n"
     ]
    },
    {
     "data": {
      "text/plain": [
       "Text(0, 0.5, 'Count')"
      ]
     },
     "execution_count": 48,
     "metadata": {},
     "output_type": "execute_result"
    },
    {
     "data": {
      "image/png": "[encoded data removed]",
      "text/plain": [
       "<Figure size 1000x1000 with 1 Axes>"
      ]
     },
     "metadata": {},
     "output_type": "display_data"
    }
   ],
   "source": [
    "vs= sns.countplot(x='Vehicle Size', data=df,palette='Set1')\n",
    "sns.set(rc={'figure.figsize':(15,5)})\n",
    "plt.title('Count of Manufactured cars based on Vehicle Size',fontsize=20)\n",
    "plt.xlabel('Vehicle Size')\n",
    "plt.ylabel('Count')"
   ]
  },
  {
   "cell_type": "code",
   "execution_count": 4,
   "id": "9c3fe91e-87f1-4a8a-878b-c6cc5c7149ae",
   "metadata": {},
   "outputs": [
    {
     "name": "stderr",
     "output_type": "stream",
     "text": [
      "C:\\Users\\91763\\AppData\\Local\\Temp\\ipykernel_19028\\2179588473.py:1: FutureWarning: \n",
      "\n",
      "Passing `palette` without assigning `hue` is deprecated and will be removed in v0.14.0. Assign the `x` variable to `hue` and set `legend=False` for the same effect.\n",
      "\n",
      "  vs= sns.countplot(x='Transmission Type', data=df,palette='Set1')\n"
     ]
    },
    {
     "data": {
      "text/plain": [
       "Text(0, 0.5, 'Count')"
      ]
     },
     "execution_count": 4,
     "metadata": {},
     "output_type": "execute_result"
    },
    {
     "data": {
      "image/png": "[encoded data removed]",
      "text/plain": [
       "<Figure size 1500x500 with 1 Axes>"
      ]
     },
     "metadata": {},
     "output_type": "display_data"
    }
   ],
   "source": [
    "vs= sns.countplot(x='Transmission Type', data=df,palette='Set1')\n",
    "sns.set(rc={'figure.figsize':(15,5)})\n",
    "plt.title('Count of Manufactured cars based on Transmission Type',fontsize=20)\n",
    "plt.xlabel('Transmission Type')\n",
    "plt.ylabel('Count')"
   ]
  },
  {
   "cell_type": "code",
   "execution_count": 7,
   "id": "12e839fc-1c15-4103-9a41-2215963560b3",
   "metadata": {},
   "outputs": [
    {
     "data": {
      "text/plain": [
       "Text(0.5, 1.0, 'Average Price of the cars in different Transmission Type')"
      ]
     },
     "execution_count": 7,
     "metadata": {},
     "output_type": "execute_result"
    },
    {
     "data": {
      "image/png": "[encoded data removed]",
      "text/plain": [
       "<Figure size 2000x500 with 1 Axes>"
      ]
     },
     "metadata": {},
     "output_type": "display_data"
    }
   ],
   "source": [
    "#Find the average of transmission bassed upon msrp\n",
    "tt= df.groupby(['Transmission Type'], as_index=False)['MSRP'].mean()\n",
    "sns.set(rc={'figure.figsize':(20,5)})\n",
    "sns.barplot(x='Transmission Type', y='MSRP',data=tt)\n",
    "plt.title('Average Price of the cars in different Transmission Type',fontsize=20)"
   ]
  },
  {
   "cell_type": "code",
   "execution_count": null,
   "id": "316a1141-e7ff-4760-9043-166581f0ab54",
   "metadata": {},
   "outputs": [],
   "source": []
  }
 ],
 "metadata": {
  "kernelspec": {
   "display_name": "Python 3 (ipykernel)",
   "language": "python",
   "name": "python3"
  },
  "language_info": {
   "codemirror_mode": {
    "name": "ipython",
    "version": 3
   },
   "file_extension": ".py",
   "mimetype": "text/x-python",
   "name": "python",
   "nbconvert_exporter": "python",
   "pygments_lexer": "ipython3",
   "version": "3.13.1"
  }
 },
 "nbformat": 4,
 "nbformat_minor": 5
}
